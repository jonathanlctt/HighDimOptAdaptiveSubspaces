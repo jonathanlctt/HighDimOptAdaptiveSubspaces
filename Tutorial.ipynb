{
 "cells": [
  {
   "cell_type": "code",
   "execution_count": 14,
   "metadata": {},
   "outputs": [],
   "source": [
    "import torch\n",
    "import torch.nn as nn\n",
    "import numpy as np\n",
    "\n",
    "import matplotlib.pyplot as plt\n",
    "\n",
    "#from cvx import CVX\n",
    "from sketchcvx import sketchCVX"
   ]
  },
  {
   "cell_type": "markdown",
   "metadata": {},
   "source": [
    "# Smooth L1-Regression"
   ]
  },
  {
   "cell_type": "markdown",
   "metadata": {},
   "source": [
    "Regression with smooth L1-loss.\n",
    "Given data points $a_1, \\dots, a_n$ and observations $y_1, \\dots, y_n$, the goal is to minimize the smooth L1-loss:\n",
    "$$f(Ax) = \\frac{1}{n} \\sum_{i=1}^n \\ell(a_i^\\top x, y_i)\\,,$$\n",
    "where\n",
    "$$\\ell(w_i, y_i) = \\begin{cases} 0.5 (w_i - y_i)^2\\,, \\quad &\\text{if } |w_i-y_i| <  1\\\\ |w_i - y_i|-0.5 \\quad &\\text{otherwise}\\end{cases}$$"
   ]
  },
  {
   "cell_type": "markdown",
   "metadata": {},
   "source": [
    "We illustrate how to optimize in a low-dimensional subspace. First, we generate a toy example."
   ]
  },
  {
   "cell_type": "code",
   "execution_count": 15,
   "metadata": {},
   "outputs": [],
   "source": [
    "n, d, p = 80, 30, 1\n",
    "A = torch.randn(n,d)\n",
    "U, _, V = torch.svd(A)\n",
    "Sigma = torch.Tensor([0.8**ii for ii in range(d)])\n",
    "A = torch.mm(U, Sigma*V.T)\n",
    "y = torch.randn(n, p)\n",
    "lambda_ = 1."
   ]
  },
  {
   "cell_type": "code",
   "execution_count": 16,
   "metadata": {},
   "outputs": [],
   "source": [
    "def SmoothL1Loss(w, y):\n",
    "    n = y.shape[0]\n",
    "    crit = (torch.abs(w-y) < 1).double()\n",
    "    return 1/n*(crit*(w-y)**2 + (1-crit)*(torch.abs(w-y)-0.5)).sum()"
   ]
  },
  {
   "cell_type": "markdown",
   "metadata": {},
   "source": [
    "We solve the sketched program as follows."
   ]
  },
  {
   "cell_type": "code",
   "execution_count": 23,
   "metadata": {},
   "outputs": [],
   "source": [
    "#We choose: \n",
    "#       - the sketch size\n",
    "#       - adaptive or oblivious sketch\n",
    "#       - embedding : srht or gaussian\n",
    "#       - the power in the power method\n",
    "sketch_params = {'sketch_size': 5, 'adaptive': True, 'sketch': 'srht', 'power': 1}\n",
    "\n",
    "# This creates an instance of the solver\n",
    "cvx = sketchCVX(A, y, SmoothL1Loss, lambda_)\n",
    "\n",
    "# In the next line, we sketch the data.\n",
    "_, sketch_time = cvx.sketch(**sketch_params)\n",
    "\n",
    "# We choose an algorithm and its parameter. Here, we use the subsampling Newton method.\n",
    "# For the Newton method, we specify two batch sizes:\n",
    "    # - one for computing a stochastic gradient\n",
    "    # - one for computing a stochastic hessian\n",
    "# 'params': \n",
    "    # lr = step size\n",
    "    # tol = tolerance for solving H^{-1}*g using the conjugate gradient method\n",
    "    # n_cg = max number of iterations of the CG method\n",
    "optim_params = {'alg': 'newton', \n",
    "                'batch_sizes': [n, n], \n",
    "                'params': {'lr': .5, \n",
    "                           'tol': 1e-3, \n",
    "                           'n_cg': 20}}\n",
    "\n",
    "# alternatively, use 'sgd', 'adagrad' or 'adam' (see the Pytorch documentation for more details)\n",
    "#optim_params = {'alg': 'sgd', \n",
    "#                'batch_sizes': [n], \n",
    "#                'params': {'lr': .8, 'momentum': 0.9}}\n",
    "\n",
    "# Then, run the following line to compute the approximate solution from the subspace method\n",
    "xtilde, _, times_lowdim = cvx.iterative_method(n_iterations=10, **optim_params)"
   ]
  },
  {
   "cell_type": "markdown",
   "metadata": {},
   "source": [
    "Compare the latter computational times with that of solving the high-dimensional program."
   ]
  },
  {
   "cell_type": "code",
   "execution_count": 24,
   "metadata": {},
   "outputs": [
    {
     "name": "stdout",
     "output_type": "stream",
     "text": [
      "distance between high-dim and low-dim solutions: 0.04785702\n"
     ]
    }
   ],
   "source": [
    "from cvx import CVX\n",
    "cvx = CVX(A, y, SmoothL1Loss, lambda_)\n",
    "\n",
    "optim_params = {'alg': 'newton', \n",
    "                'batch_sizes': [n, n], \n",
    "                'params': {'lr': .5, \n",
    "                           'tol': 1e-3, \n",
    "                           'n_cg': 20}}\n",
    "\n",
    "x, _, times_highdim = cvx.solve(n_iterations=10, **optim_params)\n",
    "\n",
    "dist = (torch.norm(x-xtilde) / torch.norm(x)).numpy()\n",
    "print('distance between high-dim and low-dim solutions:', dist)\n",
    "      "
   ]
  },
  {
   "cell_type": "code",
   "execution_count": 25,
   "metadata": {},
   "outputs": [
    {
     "name": "stdout",
     "output_type": "stream",
     "text": [
      "time for highdimopt:  0.11011219024658203\n",
      "time for lowdimopt:  0.03330731391906738\n"
     ]
    }
   ],
   "source": [
    "print('time for highdimopt: ', np.cumsum(times_highdim)[-1])\n",
    "\n",
    "print('time for lowdimopt: ', np.cumsum(times_lowdim)[-1])"
   ]
  },
  {
   "cell_type": "code",
   "execution_count": null,
   "metadata": {},
   "outputs": [],
   "source": []
  },
  {
   "cell_type": "code",
   "execution_count": null,
   "metadata": {},
   "outputs": [],
   "source": []
  },
  {
   "cell_type": "code",
   "execution_count": null,
   "metadata": {},
   "outputs": [],
   "source": []
  },
  {
   "cell_type": "code",
   "execution_count": null,
   "metadata": {},
   "outputs": [],
   "source": []
  },
  {
   "cell_type": "code",
   "execution_count": null,
   "metadata": {},
   "outputs": [],
   "source": []
  }
 ],
 "metadata": {
  "kernelspec": {
   "display_name": "Python [conda env:root] *",
   "language": "python",
   "name": "conda-root-py"
  },
  "language_info": {
   "codemirror_mode": {
    "name": "ipython",
    "version": 3
   },
   "file_extension": ".py",
   "mimetype": "text/x-python",
   "name": "python",
   "nbconvert_exporter": "python",
   "pygments_lexer": "ipython3",
   "version": "3.7.3"
  }
 },
 "nbformat": 4,
 "nbformat_minor": 2
}
